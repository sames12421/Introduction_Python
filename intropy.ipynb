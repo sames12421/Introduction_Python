{
  "nbformat": 4,
  "nbformat_minor": 0,
  "metadata": {
    "colab": {
      "provenance": [],
      "authorship_tag": "ABX9TyPrMp4gWdpqMJInxv5I6SC0",
      "include_colab_link": true
    },
    "kernelspec": {
      "name": "python3",
      "display_name": "Python 3"
    },
    "language_info": {
      "name": "python"
    }
  },
  "cells": [
    {
      "cell_type": "markdown",
      "metadata": {
        "id": "view-in-github",
        "colab_type": "text"
      },
      "source": [
        "<a href=\"https://colab.research.google.com/github/sames12421/Introduction_Python/blob/main/intropy.ipynb\" target=\"_parent\"><img src=\"https://colab.research.google.com/assets/colab-badge.svg\" alt=\"Open In Colab\"/></a>"
      ]
    },
    {
      "cell_type": "markdown",
      "source": [
        "#INTRODUCTION\n",
        "\n",
        "**PROGRAMING**\n",
        "\n",
        "\n",
        "The process of communication of computer and humans which used to solve complex problem\n",
        "\n",
        "In 1991 Guido van Rossum\n",
        "\n",
        "FEATURES OF PYTHON\n",
        "\n",
        "\n",
        "1.   easy to implemnet\n",
        "2.   plateform independent\n",
        "3.   open source\n",
        "4.   big libaries\n",
        "5.   can be integrated\n",
        "\n",
        "\n",
        "APPLICATIONS OF PYTHON\n",
        "\n",
        "\n",
        "\n",
        "*  data science\n",
        "*  machine learning\n",
        "*  deep learning\n",
        "*   etc\n",
        "\n",
        "\n",
        "\n"
      ],
      "metadata": {
        "id": "twNKjQHNSwIL"
      }
    },
    {
      "cell_type": "code",
      "execution_count": null,
      "metadata": {
        "id": "sJRmTM_-SPhr",
        "colab": {
          "base_uri": "https://localhost:8080/"
        },
        "outputId": "a701e876-44bf-46b3-e0e0-c328f07f7e91"
      },
      "outputs": [
        {
          "output_type": "execute_result",
          "data": {
            "text/plain": [
              "11"
            ]
          },
          "metadata": {},
          "execution_count": 1
        }
      ],
      "source": [
        "5+6"
      ]
    },
    {
      "cell_type": "code",
      "source": [
        "print(\"hello world\")"
      ],
      "metadata": {
        "colab": {
          "base_uri": "https://localhost:8080/"
        },
        "id": "1LdSIOwIXiy1",
        "outputId": "abea3d47-b482-4524-f778-16500dc3ac8a"
      },
      "execution_count": null,
      "outputs": [
        {
          "output_type": "stream",
          "name": "stdout",
          "text": [
            "hello world\n"
          ]
        }
      ]
    },
    {
      "cell_type": "code",
      "source": [
        "print(5)"
      ],
      "metadata": {
        "id": "nJFw8bYSXocq",
        "outputId": "e00a5c91-68bd-411b-ed51-ec85619bb5c2",
        "colab": {
          "base_uri": "https://localhost:8080/"
        }
      },
      "execution_count": null,
      "outputs": [
        {
          "output_type": "stream",
          "name": "stdout",
          "text": [
            "5\n"
          ]
        }
      ]
    },
    {
      "cell_type": "markdown",
      "source": [
        "#modules"
      ],
      "metadata": {
        "id": "E_Cm0PsquPqx"
      }
    },
    {
      "cell_type": "markdown",
      "source": [
        "2 types\n",
        "\n",
        "\n",
        "1. built in modules (already present just to use)\n",
        "2. external modules\n",
        "\n",
        "\n",
        "*  easy to time save to do programming\n",
        "\n",
        "\n",
        "IN MAC PIP3, IN WINDOW pip\n",
        "\n",
        "pandas (data analysis libray)\n",
        "\n",
        "sklearn (machine learning)\n",
        "\n",
        "keyword-(import is used to install all the lib)\n",
        "\n",
        "versatile programing where all company's will use"
      ],
      "metadata": {
        "id": "zTWdAT67uTHl"
      }
    },
    {
      "cell_type": "code",
      "source": [
        "!pip install pandas"
      ],
      "metadata": {
        "colab": {
          "base_uri": "https://localhost:8080/"
        },
        "id": "Q7_fX_3huOGn",
        "outputId": "685b80e4-84eb-4317-cf13-f29017ebfdc4"
      },
      "execution_count": null,
      "outputs": [
        {
          "output_type": "stream",
          "name": "stdout",
          "text": [
            "Requirement already satisfied: pandas in /usr/local/lib/python3.10/dist-packages (2.2.2)\n",
            "Requirement already satisfied: numpy>=1.22.4 in /usr/local/lib/python3.10/dist-packages (from pandas) (1.26.4)\n",
            "Requirement already satisfied: python-dateutil>=2.8.2 in /usr/local/lib/python3.10/dist-packages (from pandas) (2.8.2)\n",
            "Requirement already satisfied: pytz>=2020.1 in /usr/local/lib/python3.10/dist-packages (from pandas) (2024.2)\n",
            "Requirement already satisfied: tzdata>=2022.7 in /usr/local/lib/python3.10/dist-packages (from pandas) (2024.2)\n",
            "Requirement already satisfied: six>=1.5 in /usr/local/lib/python3.10/dist-packages (from python-dateutil>=2.8.2->pandas) (1.17.0)\n"
          ]
        }
      ]
    },
    {
      "cell_type": "code",
      "source": [
        "import pandas as pd"
      ],
      "metadata": {
        "id": "gGPqhfemvpAn"
      },
      "execution_count": null,
      "outputs": []
    },
    {
      "cell_type": "markdown",
      "source": [
        "#print statement"
      ],
      "metadata": {
        "id": "qnDdKgNVwJpO"
      }
    },
    {
      "cell_type": "markdown",
      "source": [
        "print used to print the details function\n",
        "\n"
      ],
      "metadata": {
        "id": "T4SOV5Yyxd1f"
      }
    },
    {
      "cell_type": "code",
      "source": [
        "print(\"hello world\")"
      ],
      "metadata": {
        "colab": {
          "base_uri": "https://localhost:8080/"
        },
        "id": "VVu6Wf2GwC4Z",
        "outputId": "605eaccc-d73a-421e-a390-909a5293e6e3"
      },
      "execution_count": null,
      "outputs": [
        {
          "output_type": "stream",
          "name": "stdout",
          "text": [
            "hello world\n"
          ]
        }
      ]
    },
    {
      "cell_type": "markdown",
      "source": [
        "if we do like this"
      ],
      "metadata": {
        "id": "yIsro5h5xo0l"
      }
    },
    {
      "cell_type": "code",
      "source": [
        "print(hello world)"
      ],
      "metadata": {
        "colab": {
          "base_uri": "https://localhost:8080/",
          "height": 105
        },
        "id": "6QBS7pVqxnyl",
        "outputId": "aea86cb3-b05d-482b-8414-8b60830fdf00"
      },
      "execution_count": null,
      "outputs": [
        {
          "output_type": "error",
          "ename": "SyntaxError",
          "evalue": "invalid syntax. Perhaps you forgot a comma? (<ipython-input-6-6135c6da936c>, line 1)",
          "traceback": [
            "\u001b[0;36m  File \u001b[0;32m\"<ipython-input-6-6135c6da936c>\"\u001b[0;36m, line \u001b[0;32m1\u001b[0m\n\u001b[0;31m    print(hello world)\u001b[0m\n\u001b[0m          ^\u001b[0m\n\u001b[0;31mSyntaxError\u001b[0m\u001b[0;31m:\u001b[0m invalid syntax. Perhaps you forgot a comma?\n"
          ]
        }
      ]
    },
    {
      "cell_type": "markdown",
      "source": [
        "for integer we no need to \" \" this brackets within it"
      ],
      "metadata": {
        "id": "kz5JrBS1xxhn"
      }
    },
    {
      "cell_type": "code",
      "source": [
        "print(10)"
      ],
      "metadata": {
        "colab": {
          "base_uri": "https://localhost:8080/"
        },
        "id": "TMtCzTtMx5-0",
        "outputId": "fe31b1a8-8e61-476b-baa5-da422fb2f18c"
      },
      "execution_count": null,
      "outputs": [
        {
          "output_type": "stream",
          "name": "stdout",
          "text": [
            "10\n"
          ]
        }
      ]
    },
    {
      "cell_type": "markdown",
      "source": [
        "in terminal it works based on line by line so we can do it by one script file"
      ],
      "metadata": {
        "id": "p5PMak-zyDN9"
      }
    },
    {
      "cell_type": "code",
      "source": [
        "#print(print(value, ..., sep=' ', end='\\n', file=sys.stdout, flush=False)\n",
        "\n",
        "print(\"hello world \",7)"
      ],
      "metadata": {
        "colab": {
          "base_uri": "https://localhost:8080/"
        },
        "id": "DPK1pqMRyVeM",
        "outputId": "65bdfdf5-ef60-468f-c73d-dc0a0c3141b1"
      },
      "execution_count": null,
      "outputs": [
        {
          "output_type": "stream",
          "name": "stdout",
          "text": [
            "hello world  7\n"
          ]
        }
      ]
    },
    {
      "cell_type": "markdown",
      "source": [
        "#comments...Escape...sequence....&....print.....statement"
      ],
      "metadata": {
        "id": "mUpbhlVfy8ll"
      }
    },
    {
      "cell_type": "markdown",
      "source": [
        "escape will help u to create new line \\n these are escape seq charactors\n",
        "\n",
        "\n",
        "comments -- can keep text within it we oftenly use ' # ' only\n",
        "\n",
        "**ctl+->+/** used to put comments for more line present within it\n",
        "\n",
        "\n",
        "\n",
        "**command+->+/** in mac\n",
        "\n",
        "\n",
        "ESCAPE SEQUENCY :\n",
        "\n",
        "charactor which can't be used directly by using escape seq we can do it\n",
        "\n",
        "1.  \\n -> new line\n",
        "2.  \\t -> tabspace\n",
        "\n",
        "\n",
        "PRINT :\n",
        " The print statement is a built-in function in Python that is used to display output to the console or terminal. It is a fundamental tool for debugging, providing information to the user, and displaying the results of calculations or operations.\n",
        "\n",
        "\n",
        "\n",
        "\n",
        "\n",
        "\n",
        "\n",
        " Variables\n",
        "In Python, a variable is a name that refers to a value stored in the computer's memory. You can think of it as a container that holds data. Variables allow you to store and manipulate information in your programs.\n",
        "Creating Variables\n",
        "You create a variable by assigning a value to it using the assignment operator (=). For example:\n"
      ],
      "metadata": {
        "id": "zn8mk4jlzckv"
      }
    },
    {
      "cell_type": "code",
      "source": [
        "name = \"Alice\"\n",
        "age = 30\n",
        "pi = 3.14159"
      ],
      "metadata": {
        "id": "1ZUaHKgn1gv7"
      },
      "execution_count": null,
      "outputs": []
    },
    {
      "cell_type": "markdown",
      "source": [
        "#datatype\n",
        "\n"
      ],
      "metadata": {
        "id": "ehIPmOsK1sWI"
      }
    },
    {
      "cell_type": "markdown",
      "source": [
        "Data types represent the kind of values that a variable can hold. Python has several built-in data types, including:\n",
        "Integers (int): Whole numbers, such as 10, -5, and 0.\n",
        "Floating-point numbers (float): Numbers with decimal points, such as 3.14, -2.5, and 0.0.\n",
        "Strings (str): Sequences of characters, enclosed in single or double quotes, such as \"Hello\", 'Python', and \"123\".\n",
        "Booleans (bool): Represent truth values, either True or False."
      ],
      "metadata": {
        "id": "uBtOuoml1xos"
      }
    },
    {
      "cell_type": "code",
      "source": [
        "name = \"Alice\"\n",
        "age = 30\n",
        "print(type(name))  # Output: <class 'str'>\n",
        "print(type(age))  # Output: <class 'int'>"
      ],
      "metadata": {
        "colab": {
          "base_uri": "https://localhost:8080/"
        },
        "id": "8Yam_qPn12w_",
        "outputId": "1df0d9c9-7fc9-4be2-a469-550934bcd0b5"
      },
      "execution_count": null,
      "outputs": [
        {
          "output_type": "stream",
          "name": "stdout",
          "text": [
            "<class 'str'>\n",
            "<class 'int'>\n"
          ]
        }
      ]
    },
    {
      "cell_type": "markdown",
      "source": [
        "Type Conversion\n",
        "You can convert a variable from one data type to another using type conversion functions:\n",
        "\n",
        "\n",
        "int(): Converts a value to an integer.\n",
        "\n",
        "\n",
        "float(): Converts a value to a floating-point number.\n",
        "\n",
        "\n",
        "str(): Converts a value to a string.\n",
        "\n",
        "\n",
        "bool(): Converts a value to a Boolean."
      ],
      "metadata": {
        "id": "d5nCtNDE18hi"
      }
    },
    {
      "cell_type": "markdown",
      "source": [
        "#sequences data"
      ],
      "metadata": {
        "id": "C7vTWiuaG7xk"
      }
    },
    {
      "cell_type": "markdown",
      "source": [
        "list --\n",
        "\n",
        "\n",
        "collection of different data type & also change **(mutable)**\n",
        "\n",
        "\n",
        "\n",
        "tuple ---\n",
        "\n",
        "\n",
        "also can't change **(immutable)**\n",
        "\n",
        "\n",
        "**MUTABLE** (changeous)"
      ],
      "metadata": {
        "id": "vVeMU0vjHBWp"
      }
    },
    {
      "cell_type": "code",
      "source": [
        "my_list = [1, 2, 3, \"apple\", \"banana\"]\n",
        "print(my_list[0])  # Output: 1\n",
        "print(my_list[3])  # Output: apple"
      ],
      "metadata": {
        "id": "sYzX1aPD2FJZ",
        "colab": {
          "base_uri": "https://localhost:8080/"
        },
        "outputId": "469452ef-417f-4bc5-92d6-67f94c6b03bd"
      },
      "execution_count": null,
      "outputs": [
        {
          "output_type": "stream",
          "name": "stdout",
          "text": [
            "1\n",
            "apple\n"
          ]
        }
      ]
    },
    {
      "cell_type": "markdown",
      "source": [
        "[ ] represts list"
      ],
      "metadata": {
        "id": "kY5uLUO_IZIx"
      }
    },
    {
      "cell_type": "code",
      "source": [
        "my_tuple = (1, 2, 3, \"apple\", \"banana\")\n",
        "print(my_tuple[0])  # Output: 1\n",
        "print(my_tuple[3])  # Output: apple"
      ],
      "metadata": {
        "colab": {
          "base_uri": "https://localhost:8080/"
        },
        "id": "RTMNKC2hIO73",
        "outputId": "ec79293c-7fc7-40e4-9ffa-d727639fe9be"
      },
      "execution_count": null,
      "outputs": [
        {
          "output_type": "stream",
          "name": "stdout",
          "text": [
            "1\n",
            "apple\n"
          ]
        }
      ]
    },
    {
      "cell_type": "markdown",
      "source": [
        "( ) tuple"
      ],
      "metadata": {
        "id": "Jv1CH2jnIeg4"
      }
    },
    {
      "cell_type": "markdown",
      "source": [
        "**alt+click** represents multiple times curser"
      ],
      "metadata": {
        "id": "1G5dr1mZInYd"
      }
    },
    {
      "cell_type": "markdown",
      "source": [
        "#TYPECAST"
      ],
      "metadata": {
        "id": "fn21HquCIzuH"
      }
    },
    {
      "cell_type": "markdown",
      "source": [
        "Typecasting, also known as type conversion, is the process of changing the data type of a variable from one type to another. For instance, you might convert an integer to a float, or a string to an integer."
      ],
      "metadata": {
        "id": "lAkQVrFfJBdB"
      }
    },
    {
      "cell_type": "markdown",
      "source": [
        "**TWO TYPES OF TYPECAST**"
      ],
      "metadata": {
        "id": "M6ZR3RjRJJSD"
      }
    },
    {
      "cell_type": "markdown",
      "source": [
        "Implicit Typecasting: This is performed automatically by Python when the data types are compatible. For instance, when adding an integer and a float, Python implicitly converts the integer to a float before performing the addition.\n",
        "\n",
        "\n",
        "\n",
        "Explicit Typecasting: This is done manually by the programmer using built-in functions like int(), float(), str(), and bool()."
      ],
      "metadata": {
        "id": "iCD4oYvdJSLr"
      }
    },
    {
      "cell_type": "markdown",
      "source": [
        "In Colab, you can use the input() function to prompt the user for input. This function displays a message to the user and waits for them to type something and press Enter. The input is then stored as a string."
      ],
      "metadata": {
        "id": "Ofcx2RDhJZ2T"
      }
    },
    {
      "cell_type": "code",
      "source": [
        "age_str = input(\"Enter your age: \")\n",
        "age = int(age_str)  # Typecast to integer\n",
        "print(\"You will be\", age + 1, \"next year.\")"
      ],
      "metadata": {
        "colab": {
          "base_uri": "https://localhost:8080/"
        },
        "id": "PgQuzJisJvrf",
        "outputId": "9d650280-1290-4ada-cfd8-d2aefe9c3493"
      },
      "execution_count": null,
      "outputs": [
        {
          "output_type": "stream",
          "name": "stdout",
          "text": [
            "Enter your age: 20\n",
            "You will be 21 next year.\n"
          ]
        }
      ]
    },
    {
      "cell_type": "markdown",
      "source": [
        "#MAP DATA"
      ],
      "metadata": {
        "id": "gRNvopVHKCQH"
      }
    },
    {
      "cell_type": "markdown",
      "source": [
        "Map data typically involves geographical information, such as locations, routes, and boundaries. In Colab, you can utilize various libraries and tools to visualize and analyze map data."
      ],
      "metadata": {
        "id": "xshN-cj0KF2J"
      }
    },
    {
      "cell_type": "markdown",
      "source": [
        "OpenStreetMap: Folium and GeoPandas can access OpenStreetMap data to create base maps and overlays.\n",
        "Shapefiles: You can load shapefiles containing geographical boundaries and other features using GeoPandas.\n",
        "GeoJSON: GeoJSON is a popular format for representing geospatial data. Plotly and Folium can handle GeoJSON data.\n",
        "Custom Data: You can create your own map data using Python dictionaries or lists and then visualize it using the libraries mentioned above."
      ],
      "metadata": {
        "id": "SI-KNm3bKKgD"
      }
    },
    {
      "cell_type": "markdown",
      "source": [
        "**IN PYTHON EVERYTHINGS IS OBJ (DICT , LIST )--> CONDSIDER AS OBJ**"
      ],
      "metadata": {
        "id": "y26vHlarKSuZ"
      }
    },
    {
      "cell_type": "markdown",
      "source": [
        "#OPERATIONS"
      ],
      "metadata": {
        "id": "6RSV0vNVKgVx"
      }
    },
    {
      "cell_type": "markdown",
      "source": [
        "In Python, operations are actions performed on data or variables. These actions can involve mathematical calculations, logical comparisons, or manipulations of data structures."
      ],
      "metadata": {
        "id": "0jMB7Tn-KktE"
      }
    },
    {
      "cell_type": "markdown",
      "source": [
        "TYPES OF OPERATION"
      ],
      "metadata": {
        "id": "kf6l_OiiK8Nz"
      }
    },
    {
      "cell_type": "markdown",
      "source": [
        "Arithmetic Operations: These operations involve basic mathematical calculations, such as addition, subtraction, multiplication, division, and modulo."
      ],
      "metadata": {
        "id": "lS25llnkLBTF"
      }
    },
    {
      "cell_type": "code",
      "source": [
        "x = 10\n",
        "y = 5\n",
        "\n",
        "# Addition\n",
        "sum = x + y  # sum is 15\n",
        "\n",
        "# Subtraction\n",
        "difference = x - y  # difference is 5\n",
        "\n",
        "# Multiplication\n",
        "product = x * y  # product is 50\n",
        "\n",
        "# Division\n",
        "quotient = x / y  # quotient is 2.0\n",
        "\n",
        "# Modulo (remainder)\n",
        "remainder = x % y  # remainder is 0\n",
        "\n",
        "print(sum)\n",
        "print(difference)\n",
        "print(product)\n",
        "print(quotient)\n",
        "print(remainder)"
      ],
      "metadata": {
        "colab": {
          "base_uri": "https://localhost:8080/"
        },
        "id": "7GxjLRLCLI3W",
        "outputId": "8fb31ba5-fb02-4f0d-eacf-7df2d20d30bd"
      },
      "execution_count": null,
      "outputs": [
        {
          "output_type": "stream",
          "name": "stdout",
          "text": [
            "15\n",
            "5\n",
            "50\n",
            "2.0\n",
            "0\n"
          ]
        }
      ]
    },
    {
      "cell_type": "markdown",
      "source": [
        "Comparison Operations: These operations compare two values and return a Boolean result (True or False)."
      ],
      "metadata": {
        "id": "ihIKfRg1LwX6"
      }
    },
    {
      "cell_type": "code",
      "source": [
        "x = 10\n",
        "y = 5\n",
        "\n",
        "# Greater than\n",
        "greater = x > y  # greater is True\n",
        "\n",
        "# Less than\n",
        "less = x < y  # less is False\n",
        "\n",
        "# Equal to\n",
        "equal = x == y  # equal is False\n",
        "\n",
        "# Not equal to\n",
        "not_equal = x != y  # not_equal is True\n",
        "\n",
        "# Greater than or equal to\n",
        "greater_equal = x >= y  # greater_equal is True\n",
        "\n",
        "# Less than or equal to\n",
        "less_equal = x <= y  # less_equal is False\n",
        "\n",
        "print(greater)\n",
        "print(less)\n",
        "print(equal)\n",
        "print(not_equal)\n",
        "print(greater_equal)\n",
        "print(less_equal)"
      ],
      "metadata": {
        "colab": {
          "base_uri": "https://localhost:8080/"
        },
        "id": "2m5FQY-ULyXR",
        "outputId": "0f5050f1-7863-4336-a8a5-92afe9cd90eb"
      },
      "execution_count": null,
      "outputs": [
        {
          "output_type": "stream",
          "name": "stdout",
          "text": [
            "True\n",
            "False\n",
            "False\n",
            "True\n",
            "True\n",
            "False\n"
          ]
        }
      ]
    },
    {
      "cell_type": "markdown",
      "source": [
        "Logical Operations: These operations combine Boolean values using and, or, and not."
      ],
      "metadata": {
        "id": "_HXlTYsIMEPx"
      }
    },
    {
      "cell_type": "code",
      "source": [
        "x = True\n",
        "y = False\n",
        "\n",
        "# and\n",
        "result_and = x and y  # result_and is False\n",
        "\n",
        "# or\n",
        "result_or = x or y  # result_or is True\n",
        "\n",
        "# not\n",
        "result_not = not x  # result_not is False\n",
        "\n",
        "print(result_and)\n",
        "print(result_or)\n",
        "print(result_not)"
      ],
      "metadata": {
        "colab": {
          "base_uri": "https://localhost:8080/"
        },
        "id": "vrytkw0sMFeD",
        "outputId": "6466719a-3afa-4f07-8e41-c3c58ffd83f2"
      },
      "execution_count": null,
      "outputs": [
        {
          "output_type": "stream",
          "name": "stdout",
          "text": [
            "False\n",
            "True\n",
            "False\n"
          ]
        }
      ]
    },
    {
      "cell_type": "markdown",
      "source": [
        "Bitwise Operations: These operations work on individual bits of data."
      ],
      "metadata": {
        "id": "n2-B9xhkMQQA"
      }
    },
    {
      "cell_type": "code",
      "source": [
        "x = 10  # Binary: 1010\n",
        "y = 5   # Binary: 0101\n",
        "\n",
        "# Bitwise AND\n",
        "result_and = x & y  # result_and is 0 (Binary: 0000)\n",
        "\n",
        "# Bitwise OR\n",
        "result_or = x | y  # result_or is 15 (Binary: 1111)\n",
        "\n",
        "# Bitwise XOR\n",
        "result_xor = x ^ y  # result_xor is 15 (Binary: 1111)\n",
        "\n",
        "# Bitwise NOT\n",
        "result_not = ~x  # result_not is -11 (Binary: -1011)\n",
        "\n",
        "print(result_and)\n",
        "print(result_or)\n",
        "print(result_xor)\n",
        "print(result_not)"
      ],
      "metadata": {
        "colab": {
          "base_uri": "https://localhost:8080/"
        },
        "id": "vnDjXaXDMUio",
        "outputId": "fdbfb115-30ba-4534-811e-7e2b09a171a5"
      },
      "execution_count": null,
      "outputs": [
        {
          "output_type": "stream",
          "name": "stdout",
          "text": [
            "0\n",
            "15\n",
            "15\n",
            "-11\n"
          ]
        }
      ]
    },
    {
      "cell_type": "markdown",
      "source": [
        "Assignment Operations: These operations assign values to variables."
      ],
      "metadata": {
        "id": "2ShUy1o7MeR3"
      }
    },
    {
      "cell_type": "code",
      "source": [
        "x = 10\n",
        "\n",
        "# Assign value\n",
        "x = 5  # x is now 5\n",
        "\n",
        "# Add and assign\n",
        "x += 5  # x is now 10\n",
        "\n",
        "# Subtract and assign\n",
        "x -= 5  # x is now 5\n",
        "\n",
        "# Multiply and assign\n",
        "x *= 5  # x is now 25\n",
        "\n",
        "# Divide and assign\n",
        "x /= 5  # x is now 5.0\n",
        "\n",
        "print(x)"
      ],
      "metadata": {
        "colab": {
          "base_uri": "https://localhost:8080/"
        },
        "id": "pUNA5NdXMhbE",
        "outputId": "d8e550a0-bdad-4870-cb9c-0b67e003ecd0"
      },
      "execution_count": null,
      "outputs": [
        {
          "output_type": "stream",
          "name": "stdout",
          "text": [
            "5.0\n"
          ]
        }
      ]
    },
    {
      "cell_type": "markdown",
      "source": [
        "#STRING"
      ],
      "metadata": {
        "id": "CqmAlFvPM_y_"
      }
    },
    {
      "cell_type": "markdown",
      "source": [
        ". Strings are immutable, meaning their contents cannot be changed after creation."
      ],
      "metadata": {
        "id": "NtbLAgZ7NFAV"
      }
    },
    {
      "cell_type": "markdown",
      "source": [
        "# Single quotes\n",
        "string1 = 'Hello, world!'\n",
        "\n",
        "# Double quotes\n",
        "string2 = \"This is a string.\"\n",
        "\n",
        "# Triple quotes (multiline)\n",
        "string3 = '''This is a\n",
        "multiline string.'''"
      ],
      "metadata": {
        "id": "j38dSdjRNLZB"
      }
    },
    {
      "cell_type": "markdown",
      "source": [
        "Concatenation: You can combine two or more strings using the + operator"
      ],
      "metadata": {
        "id": "hjiGdI8GNQ5L"
      }
    },
    {
      "cell_type": "code",
      "source": [
        "string1 = \"Hello\"\n",
        "string2 = \"world\"\n",
        "combined_string = string1 + \" \" + string2  # combined_string is \"Hello world\""
      ],
      "metadata": {
        "id": "oU2mlWsTNNtl"
      },
      "execution_count": null,
      "outputs": []
    },
    {
      "cell_type": "markdown",
      "source": [
        "Repetition: You can repeat a string multiple times using the * operator.\n",
        "\n",
        "  \n"
      ],
      "metadata": {
        "id": "9hHJVMosNVUS"
      }
    },
    {
      "cell_type": "code",
      "source": [
        "repeated_string = string1 * 3  # repeated_string is \"HelloHelloHello\""
      ],
      "metadata": {
        "id": "_k1LHHbmNY9q"
      },
      "execution_count": null,
      "outputs": []
    },
    {
      "cell_type": "markdown",
      "source": [
        "Indexing: You can access individual characters of a string using their index, starting from 0 for the first character."
      ],
      "metadata": {
        "id": "N4iiCg5jNdsz"
      }
    },
    {
      "cell_type": "code",
      "source": [
        "first_char = string1[0]  # first_char is \"H\"\n",
        "last_char = string1[-1]  # last_char is \"o\""
      ],
      "metadata": {
        "id": "QKMJCwPgNhaA"
      },
      "execution_count": null,
      "outputs": []
    },
    {
      "cell_type": "markdown",
      "source": [
        "Slicing: You can extract a portion of a string using slicing."
      ],
      "metadata": {
        "id": "EugyqFYvNoL5"
      }
    },
    {
      "cell_type": "code",
      "source": [
        "substring = string1[1:4]  # substring is \"ell\""
      ],
      "metadata": {
        "id": "pJVMuPywNnxU"
      },
      "execution_count": null,
      "outputs": []
    },
    {
      "cell_type": "markdown",
      "source": [
        "String Methods: Python provides numerous built-in methods for manipulating strings, such as lower(), upper(), strip(), split(), replace(), and many more."
      ],
      "metadata": {
        "id": "w8cxtbUKNxaf"
      }
    },
    {
      "cell_type": "code",
      "source": [
        "lowercase_string = string1.lower()  # lowercase_string is \"hello\"\n",
        "uppercase_string = string1.upper()  # uppercase_string is \"HELLO\""
      ],
      "metadata": {
        "id": "b34ZVrRbNzae"
      },
      "execution_count": null,
      "outputs": []
    },
    {
      "cell_type": "markdown",
      "source": [
        "String Formatting"
      ],
      "metadata": {
        "id": "paoQMk-dN6gi"
      }
    },
    {
      "cell_type": "code",
      "source": [
        "# String concatenation\n",
        "string1 = \"Hello\"\n",
        "string2 = \"world\"\n",
        "combined_string = string1 + \" \" + string2\n",
        "print(combined_string)  # Output: Hello world\n",
        "\n",
        "# String methods\n",
        "string3 = \"  This is a string.  \"\n",
        "stripped_string = string3.strip()\n",
        "print(stripped_string)  # Output: This is a string."
      ],
      "metadata": {
        "colab": {
          "base_uri": "https://localhost:8080/"
        },
        "id": "Qgfdf3ZzOC2c",
        "outputId": "00023f4b-1e04-45c7-f381-4925c936a332"
      },
      "execution_count": null,
      "outputs": [
        {
          "output_type": "stream",
          "name": "stdout",
          "text": [
            "Hello world\n",
            "This is a string.\n"
          ]
        }
      ]
    },
    {
      "cell_type": "markdown",
      "source": [
        "**STRING SLICING**"
      ],
      "metadata": {
        "id": "k01m7TfwOaYX"
      }
    },
    {
      "cell_type": "code",
      "source": [
        "text = \"This is a string.\"\n",
        "\n",
        "# Extract \"is a\"\n",
        "substring = text[5:9]\n",
        "\n",
        "# Print the substring\n",
        "print(substring)  # Output: is a"
      ],
      "metadata": {
        "colab": {
          "base_uri": "https://localhost:8080/"
        },
        "id": "8Odyc6fdOd3F",
        "outputId": "161fb2f3-5e5c-46b8-cf5e-a23b710a4874"
      },
      "execution_count": null,
      "outputs": [
        {
          "output_type": "stream",
          "name": "stdout",
          "text": [
            "is a\n"
          ]
        }
      ]
    },
    {
      "cell_type": "code",
      "source": [
        "# Extract every third character\n",
        "every_third = text[::3]  # every_third is \"Hl r!\"\n",
        "\n",
        "# Reverse the string\n",
        "reversed_string = text[::-1]  # reversed_string is \"!dlrow ,olleH\"\n",
        "\n",
        "print(every_third)\n",
        "print(reversed_string)"
      ],
      "metadata": {
        "colab": {
          "base_uri": "https://localhost:8080/"
        },
        "id": "1PzlzMhkOoWH",
        "outputId": "3bc808f0-994a-4adc-9e68-f42ac855a9aa"
      },
      "execution_count": null,
      "outputs": [
        {
          "output_type": "stream",
          "name": "stdout",
          "text": [
            "Tss rg\n",
            ".gnirts a si sihT\n"
          ]
        }
      ]
    },
    {
      "cell_type": "code",
      "source": [
        "text = \"This is a string.\"\n",
        "\n",
        "# Extract \"is a\"\n",
        "substring = text[5:9]\n",
        "\n",
        "# Print the substring\n",
        "print(substring)  # Output: is a"
      ],
      "metadata": {
        "colab": {
          "base_uri": "https://localhost:8080/"
        },
        "id": "H4hoF217PHFx",
        "outputId": "52a0047b-3e25-4ab3-8534-8b680a14a3d5"
      },
      "execution_count": null,
      "outputs": [
        {
          "output_type": "stream",
          "name": "stdout",
          "text": [
            "is a\n"
          ]
        }
      ]
    },
    {
      "cell_type": "markdown",
      "source": [
        "**string methods**"
      ],
      "metadata": {
        "id": "YNr0ryGBPYxe"
      }
    },
    {
      "cell_type": "markdown",
      "source": [
        "lower(): Converts the string to lowercase."
      ],
      "metadata": {
        "id": "kcp_QMBbPeHS"
      }
    },
    {
      "cell_type": "code",
      "source": [
        "text = \"Hello, World!\"\n",
        "lowercase_text = text.lower()  # lowercase_text is \"hello, world!\"\n",
        "print(lowercase_text)"
      ],
      "metadata": {
        "colab": {
          "base_uri": "https://localhost:8080/"
        },
        "id": "aj6BJkUEPh9I",
        "outputId": "fdb57267-5ef7-4039-aa34-0a5cb71e0b3b"
      },
      "execution_count": null,
      "outputs": [
        {
          "output_type": "stream",
          "name": "stdout",
          "text": [
            "hello, world!\n"
          ]
        }
      ]
    },
    {
      "cell_type": "markdown",
      "source": [
        "upper(): Converts the string to uppercase."
      ],
      "metadata": {
        "id": "KDJXFrAvP1JO"
      }
    },
    {
      "cell_type": "code",
      "source": [
        "uppercase_text = text.upper()  # uppercase_text is \"HELLO, WORLD!\"\n",
        "print(uppercase_text)"
      ],
      "metadata": {
        "colab": {
          "base_uri": "https://localhost:8080/"
        },
        "id": "8d3lLkgDP1_5",
        "outputId": "f2aee400-a198-49e6-dfe2-f2189259f301"
      },
      "execution_count": null,
      "outputs": [
        {
          "output_type": "stream",
          "name": "stdout",
          "text": [
            "HELLO, WORLD!\n"
          ]
        }
      ]
    },
    {
      "cell_type": "markdown",
      "source": [
        "strip(): Removes leading and trailing whitespace from the string"
      ],
      "metadata": {
        "id": "X9ffWh17P-2m"
      }
    },
    {
      "cell_type": "code",
      "source": [
        "text_with_spaces = \"   This is a string.   \"\n",
        "stripped_text = text_with_spaces.strip()  # stripped_text is \"This is a string.\"\n",
        "print(stripped_text)"
      ],
      "metadata": {
        "colab": {
          "base_uri": "https://localhost:8080/"
        },
        "id": "SOqh3NuFQDpj",
        "outputId": "aec29595-45e0-44f9-8cbc-7cd42037547a"
      },
      "execution_count": null,
      "outputs": [
        {
          "output_type": "stream",
          "name": "stdout",
          "text": [
            "This is a string.\n"
          ]
        }
      ]
    },
    {
      "cell_type": "markdown",
      "source": [
        "split(): Splits the string into a list of substrings based on a delimiter (default is space).\n",
        "\n",
        "  \n"
      ],
      "metadata": {
        "id": "wEoB6BzqQMDM"
      }
    },
    {
      "cell_type": "code",
      "source": [
        "text = \"This is a string.\"\n",
        "words = text.split()  # words is [\"This\", \"is\", \"a\", \"string.\"]\n",
        "print(words)"
      ],
      "metadata": {
        "colab": {
          "base_uri": "https://localhost:8080/"
        },
        "id": "aANH1E86QQAl",
        "outputId": "5b4f031e-656b-44b3-ac2e-3f3015715dfb"
      },
      "execution_count": null,
      "outputs": [
        {
          "output_type": "stream",
          "name": "stdout",
          "text": [
            "['This', 'is', 'a', 'string.']\n"
          ]
        }
      ]
    },
    {
      "cell_type": "markdown",
      "source": [
        "replace(): Replaces occurrences of a substring with another substring."
      ],
      "metadata": {
        "id": "qSwrK5ZoQkAc"
      }
    },
    {
      "cell_type": "code",
      "source": [
        "text = \"Hello, world!\"\n",
        "new_text = text.replace(\"world\", \"Python\")  # new_text is \"Hello, Python!\"\n",
        "print(new_text)"
      ],
      "metadata": {
        "colab": {
          "base_uri": "https://localhost:8080/"
        },
        "id": "lalayGW4Qk8n",
        "outputId": "733d1a18-96e7-4648-b496-c6ffaf273435"
      },
      "execution_count": null,
      "outputs": [
        {
          "output_type": "stream",
          "name": "stdout",
          "text": [
            "Hello, Python!\n"
          ]
        }
      ]
    },
    {
      "cell_type": "markdown",
      "source": [
        "find(): Returns the index of the first occurrence of a substring (or -1 if not found)."
      ],
      "metadata": {
        "id": "28p3iArwQwcE"
      }
    },
    {
      "cell_type": "code",
      "source": [
        "index = text.find(\"world\")  # index is 7\n",
        "print(index)"
      ],
      "metadata": {
        "colab": {
          "base_uri": "https://localhost:8080/"
        },
        "id": "HmRFHzOaQvmJ",
        "outputId": "a062736f-b5cc-4429-d946-13ade46cd879"
      },
      "execution_count": null,
      "outputs": [
        {
          "output_type": "stream",
          "name": "stdout",
          "text": [
            "7\n"
          ]
        }
      ]
    },
    {
      "cell_type": "markdown",
      "source": [
        "startswith(): Checks if the string starts with a specific substring."
      ],
      "metadata": {
        "id": "tTJtRXRfQ6jn"
      }
    },
    {
      "cell_type": "code",
      "source": [
        "starts_with_hello = text.startswith(\"Hello\")  # starts_with_hello is True\n",
        "print(starts_with_hello)"
      ],
      "metadata": {
        "colab": {
          "base_uri": "https://localhost:8080/"
        },
        "id": "mHQdUlGMQ-_m",
        "outputId": "aaf86360-a422-4ac8-84d6-c595b3e52d59"
      },
      "execution_count": null,
      "outputs": [
        {
          "output_type": "stream",
          "name": "stdout",
          "text": [
            "True\n"
          ]
        }
      ]
    },
    {
      "cell_type": "markdown",
      "source": [
        "endswith(): Checks if the string ends with a specific substring."
      ],
      "metadata": {
        "id": "I_EZpkYYRLN1"
      }
    },
    {
      "cell_type": "code",
      "source": [
        "ends_with_world = text.endswith(\"world!\")  # ends_with_world is True\n",
        "print(ends_with_world)"
      ],
      "metadata": {
        "colab": {
          "base_uri": "https://localhost:8080/"
        },
        "id": "zOAZdbTqROBH",
        "outputId": "d8f036db-b178-4cf7-a900-7872d6e624fe"
      },
      "execution_count": null,
      "outputs": [
        {
          "output_type": "stream",
          "name": "stdout",
          "text": [
            "True\n"
          ]
        }
      ]
    },
    {
      "cell_type": "markdown",
      "source": [
        "isdigit(): Checks if all characters in the string are digits."
      ],
      "metadata": {
        "id": "5FxI5C4xRV8l"
      }
    },
    {
      "cell_type": "code",
      "source": [
        "is_digit = \"12345\".isdigit()  # is_digit is True\n",
        "print(is_digit)"
      ],
      "metadata": {
        "colab": {
          "base_uri": "https://localhost:8080/"
        },
        "id": "T_uU5_ANRXj0",
        "outputId": "905b5b7d-2d34-44eb-a01d-f5712712a573"
      },
      "execution_count": null,
      "outputs": [
        {
          "output_type": "stream",
          "name": "stdout",
          "text": [
            "True\n"
          ]
        }
      ]
    },
    {
      "cell_type": "markdown",
      "source": [
        "isalpha(): Checks if all characters in the string are alphabetic."
      ],
      "metadata": {
        "id": "md3UzQ9xRd9z"
      }
    },
    {
      "cell_type": "code",
      "source": [
        "is_alpha = \"Hello\".isalpha()  # is_alpha is True\n",
        "print(is_alpha)"
      ],
      "metadata": {
        "colab": {
          "base_uri": "https://localhost:8080/"
        },
        "id": "ImV-emeBRjCe",
        "outputId": "ca30b579-4503-419c-9bb4-960de23ceeda"
      },
      "execution_count": null,
      "outputs": [
        {
          "output_type": "stream",
          "name": "stdout",
          "text": [
            "True\n"
          ]
        }
      ]
    },
    {
      "cell_type": "code",
      "source": [
        "text = \"  Hello, World!  \"\n",
        "\n",
        "# Convert to lowercase\n",
        "lowercase_text = text.lower()\n",
        "print(lowercase_text)  # Output: \"  hello, world!  \"\n",
        "\n",
        "# Remove whitespace\n",
        "stripped_text = text.strip()\n",
        "print(stripped_text)  # Output: \"Hello, World!\"\n",
        "\n",
        "# Replace substring\n",
        "new_text = text.replace(\"World\", \"Python\")\n",
        "print(new_text)  # Output: \"  Hello, Python!  \""
      ],
      "metadata": {
        "id": "9BrVAoB0Rr7l",
        "outputId": "6a173a92-64bd-42a7-9362-5589aedb2f44",
        "colab": {
          "base_uri": "https://localhost:8080/"
        }
      },
      "execution_count": null,
      "outputs": [
        {
          "output_type": "stream",
          "name": "stdout",
          "text": [
            "  hello, world!  \n",
            "Hello, World!\n",
            "  Hello, Python!  \n"
          ]
        }
      ]
    },
    {
      "cell_type": "markdown",
      "source": [
        "#if-else statement"
      ],
      "metadata": {
        "id": "HrZxAfTkHXPA"
      }
    },
    {
      "cell_type": "markdown",
      "source": [
        "if condition:\n",
        "    # Code to execute if the condition is True\n",
        "else:\n",
        "    # Code to execute if the condition is False"
      ],
      "metadata": {
        "id": "TemF9ElpHd5a"
      }
    },
    {
      "cell_type": "code",
      "source": [
        "age = 20\n",
        "\n",
        "if age >= 18:\n",
        "    print(\"You are eligible to vote.\")\n",
        "else:\n",
        "    print(\"You are not eligible to vote yet.\")"
      ],
      "metadata": {
        "colab": {
          "base_uri": "https://localhost:8080/"
        },
        "id": "4zG8OH8dHxjT",
        "outputId": "9954ca86-a953-40e1-ae07-7f57c29eca1c"
      },
      "execution_count": null,
      "outputs": [
        {
          "output_type": "stream",
          "name": "stdout",
          "text": [
            "You are eligible to vote.\n"
          ]
        }
      ]
    },
    {
      "cell_type": "markdown",
      "source": [
        "**HOW IT WORKS**"
      ],
      "metadata": {
        "id": "wzefHa00HuAw"
      }
    },
    {
      "cell_type": "markdown",
      "source": [
        "1. The if statement evaluates the condition.\n",
        "2. If the condition is True, the code block under the if statement is executed.\n",
        "3. If the condition is False, the code block under the else statement is executed.\n",
        "\n",
        "\n"
      ],
      "metadata": {
        "id": "QjdRGxKvIA6q"
      }
    },
    {
      "cell_type": "code",
      "source": [
        "a=int(input(\"enter the age : \"))\n",
        "print(\"ur age is :\",a)\n",
        "if(a>=18):\n",
        "  print(\"u can drive\")\n",
        "else:\n",
        "  print(\"u can't drive\")"
      ],
      "metadata": {
        "colab": {
          "base_uri": "https://localhost:8080/"
        },
        "id": "pcW7J--UIrS4",
        "outputId": "659abe14-f8b9-49a0-cfac-f21731a4b5c3"
      },
      "execution_count": null,
      "outputs": [
        {
          "output_type": "stream",
          "name": "stdout",
          "text": [
            "enter the age : 12\n",
            "ur age is : 12\n",
            "u can't drive\n"
          ]
        }
      ]
    },
    {
      "cell_type": "code",
      "source": [
        "appleprice=20\n",
        "buget=200\n",
        "if(appleprice<=buget):\n",
        "  print(\"yes ur applr is buy\")\n",
        "else:\n",
        "  print(\"no ur applr is not buy\")"
      ],
      "metadata": {
        "colab": {
          "base_uri": "https://localhost:8080/"
        },
        "id": "T1or-lDeJSfc",
        "outputId": "38811c21-a544-4cd1-84b4-2e06ac185a58"
      },
      "execution_count": null,
      "outputs": [
        {
          "output_type": "stream",
          "name": "stdout",
          "text": [
            "yes ur applr is buy\n"
          ]
        }
      ]
    },
    {
      "cell_type": "code",
      "source": [
        "appleprice=20\n",
        "buget=200\n",
        "if(buget - appleprice<= 50):\n",
        "  print(\"yes ur applr is buy\")\n",
        "elif(buget - appleprice>= 70):\n",
        "  print(\"yes ur applr is buy\")\n",
        "else:\n",
        "  print(\"no ur applr is not buy\")"
      ],
      "metadata": {
        "colab": {
          "base_uri": "https://localhost:8080/"
        },
        "id": "8TQNZ8hRJvu7",
        "outputId": "3d9edf80-90f5-4f84-98e7-80b29ac4db94"
      },
      "execution_count": null,
      "outputs": [
        {
          "output_type": "stream",
          "name": "stdout",
          "text": [
            "yes ur applr is buy\n"
          ]
        }
      ]
    },
    {
      "cell_type": "markdown",
      "source": [
        "elif"
      ],
      "metadata": {
        "id": "R0ZmdqwHIK8u"
      }
    },
    {
      "cell_type": "markdown",
      "source": [
        "if condition1:\n",
        "    # Code to execute if condition1 is True\n",
        "elif condition2:\n",
        "    # Code to execute if condition1 is False and condition2 is True\n",
        "elif condition3:\n",
        "    # Code to execute if condition1 and condition2 are False and condition3 is True\n",
        "else:\n",
        "    # Code to execute if all conditions are False"
      ],
      "metadata": {
        "id": "JxfnEvAZKY-f"
      }
    },
    {
      "cell_type": "code",
      "source": [
        "score = 85\n",
        "\n",
        "if score >= 90:\n",
        "    grade = \"A\"\n",
        "elif score >= 80:\n",
        "    grade = \"B\"\n",
        "elif score >= 70:\n",
        "    grade = \"C\"\n",
        "elif score >= 60:\n",
        "    grade = \"D\"\n",
        "else:\n",
        "    grade = \"F\"\n",
        "\n",
        "print(\"Your grade is:\", grade)"
      ],
      "metadata": {
        "colab": {
          "base_uri": "https://localhost:8080/"
        },
        "id": "g80Tk8JFKXUc",
        "outputId": "582ad87c-a2d6-42ce-8e49-eb273d59736e"
      },
      "execution_count": null,
      "outputs": [
        {
          "output_type": "stream",
          "name": "stdout",
          "text": [
            "Your grade is: B\n"
          ]
        }
      ]
    },
    {
      "cell_type": "code",
      "source": [
        "num=int(input(\"`enter the num : \"))\n",
        "if(num <0 ):\n",
        "  print(\"negative\")\n",
        "elif(num==0):\n",
        "  print(\"zero\")\n",
        "elif(num==999):\n",
        "  print(\"special\")\n",
        "else:\n",
        "  print(\"positive\")"
      ],
      "metadata": {
        "colab": {
          "base_uri": "https://localhost:8080/"
        },
        "id": "S-mfznctKra6",
        "outputId": "238efae4-87d7-47ea-c70d-afcadff41fc0"
      },
      "execution_count": null,
      "outputs": [
        {
          "output_type": "stream",
          "name": "stdout",
          "text": [
            "`enter the num : 999\n",
            "special\n"
          ]
        }
      ]
    },
    {
      "cell_type": "markdown",
      "source": [
        "**NESTED IF STATEMENT**"
      ],
      "metadata": {
        "id": "aKy0ab5iNUJZ"
      }
    },
    {
      "cell_type": "markdown",
      "source": [
        "A nested if statement is an if statement placed inside another if statement. This allows you to create more complex conditional logic by checking multiple conditions in a hierarchical manner."
      ],
      "metadata": {
        "id": "hquLJxfiNYDv"
      }
    },
    {
      "cell_type": "markdown",
      "source": [
        "**SYNTAX**"
      ],
      "metadata": {
        "id": "HVaudOvdNdbd"
      }
    },
    {
      "cell_type": "markdown",
      "source": [
        "if condition1:\n",
        "    # Code to execute if condition1 is True\n",
        "    if condition2:\n",
        "        # Code to execute if both condition1 and condition2 are True\n",
        "    else:\n",
        "        # Code to execute if condition1 is True but condition2 is False\n",
        "else:\n",
        "    # Code to execute if condition1 is False"
      ],
      "metadata": {
        "id": "zRcHkmBNNhxj"
      }
    },
    {
      "cell_type": "markdown",
      "source": [
        "**HOW DOES IT WORK**"
      ],
      "metadata": {
        "id": "8mjgtrE5NlTs"
      }
    },
    {
      "cell_type": "markdown",
      "source": [
        "1. The outer if statement evaluates condition1.\n",
        "2. If condition1 is True, the code block inside the outer if statement is executed. This code block may contain another if statement (the nested if).\n",
        "3. The nested if statement evaluates condition2.\n",
        "4. If condition2 is True, the code block inside the nested if statement is executed.\n",
        "5. If condition2 is False, the code block inside the nested else statement (if present) is executed.\n",
        "6. If condition1 is False, the code block inside the outer else statement (if present) is executed."
      ],
      "metadata": {
        "id": "3r332ExYNsb7"
      }
    },
    {
      "cell_type": "code",
      "source": [
        "x = 10\n",
        "y = 5\n",
        "\n",
        "if x > 5:\n",
        "    if y > 2:\n",
        "        print(\"Both conditions are True\")\n",
        "    else:\n",
        "        print(\"x is greater than 5, but y is not greater than 2\")\n",
        "else:\n",
        "    print(\"x is not greater than 5\")"
      ],
      "metadata": {
        "colab": {
          "base_uri": "https://localhost:8080/"
        },
        "id": "gZe9Hs_XN99M",
        "outputId": "0c5d57bb-e18f-40ff-e42d-f65b4784b69c"
      },
      "execution_count": null,
      "outputs": [
        {
          "output_type": "stream",
          "name": "stdout",
          "text": [
            "Both conditions are True\n"
          ]
        }
      ]
    },
    {
      "cell_type": "code",
      "source": [
        "num=18\n",
        "if(num<0):\n",
        "  print(\"negative\")\n",
        "elif(num==0):\n",
        "  print(\"zero\")\n",
        "else:\n",
        "  if(num%2==0):\n",
        "    print(\"even\")\n",
        "  else:\n",
        "    print(\"odd\")"
      ],
      "metadata": {
        "colab": {
          "base_uri": "https://localhost:8080/"
        },
        "id": "XxjRHBXBOCkR",
        "outputId": "e4e86393-7fe4-4ba1-e7c6-b1b3f3f78abf"
      },
      "execution_count": null,
      "outputs": [
        {
          "output_type": "stream",
          "name": "stdout",
          "text": [
            "even\n"
          ]
        }
      ]
    },
    {
      "cell_type": "code",
      "source": [
        "num=18\n",
        "if(num<0):\n",
        "  print(\"negative\")\n",
        "elif(num>0):\n",
        "  if(num<=10):\n",
        "    print(\"one digit\")\n",
        "  elif(num>10 and num <=20):\n",
        "    print(\"two digit\")\n",
        "  else:\n",
        "    print(\"three digit\")\n",
        "else:\n",
        "  print(\"zero\")"
      ],
      "metadata": {
        "colab": {
          "base_uri": "https://localhost:8080/"
        },
        "id": "6zSsASsBOTGv",
        "outputId": "a4edbb8c-8a54-4d0d-973c-28910f0fc1ff"
      },
      "execution_count": null,
      "outputs": [
        {
          "output_type": "stream",
          "name": "stdout",
          "text": [
            "two digit\n"
          ]
        }
      ]
    },
    {
      "cell_type": "code",
      "source": [
        "time=int(input(\"enter the time : \"))\n",
        "if(time<0):\n",
        "  print(\"invalid time\")\n",
        "elif(time>=0 and time>=1200):\n",
        "  print(\"good morning\")\n",
        "  if(time<=1200 and time>=300):\n",
        "    print(\"good afternoon\")\n",
        "  elif(time<=300 and time>=600):\n",
        "    print(\"good evening\")\n",
        "  else:\n",
        "    print(\"good night\")\n",
        "else:\n",
        "  print(\"good night\")"
      ],
      "metadata": {
        "colab": {
          "base_uri": "https://localhost:8080/"
        },
        "id": "bq1PxRoBO-l4",
        "outputId": "e6b0e8a7-91f0-4c78-9084-de92aa707453"
      },
      "execution_count": null,
      "outputs": [
        {
          "output_type": "stream",
          "name": "stdout",
          "text": [
            "enter the time : 1253\n",
            "good morning\n",
            "good night\n"
          ]
        }
      ]
    },
    {
      "cell_type": "code",
      "source": [
        "import time\n",
        "\n",
        "timestamp=time.strftime(\"%H:%M:%S\")\n",
        "print(timestamp)\n",
        "timestamp=time.strftime(\"%H\")\n",
        "print(timestamp)\n",
        "timestamp=time.strftime(\"%M\")\n",
        "print(timestamp)\n",
        "timestamp=time.strftime(\"%S\")\n",
        "print(timestamp)\n"
      ],
      "metadata": {
        "colab": {
          "base_uri": "https://localhost:8080/"
        },
        "id": "YmGs-4vOQs7q",
        "outputId": "3305aa70-3e30-4ce6-8d95-b725d8a05e6c"
      },
      "execution_count": null,
      "outputs": [
        {
          "output_type": "stream",
          "name": "stdout",
          "text": [
            "07:28:42\n",
            "07\n",
            "28\n",
            "42\n"
          ]
        }
      ]
    },
    {
      "cell_type": "markdown",
      "source": [
        "#MATCH CASE"
      ],
      "metadata": {
        "id": "PqvphzCPSlB4"
      }
    },
    {
      "cell_type": "markdown",
      "source": [
        "The match-case statement is a new feature introduced in Python 3.10. It provides a way to perform pattern matching, allowing you to compare a value against multiple patterns and execute different code blocks based on the matching pattern."
      ],
      "metadata": {
        "id": "MqbJosJBSpPY"
      }
    },
    {
      "cell_type": "markdown",
      "source": [
        "**SYNTAX**"
      ],
      "metadata": {
        "id": "SSYQdVAHStQu"
      }
    },
    {
      "cell_type": "markdown",
      "source": [
        "match subject:\n",
        "    case pattern1:\n",
        "        # Code to execute if subject matches pattern1\n",
        "    case pattern2:\n",
        "        # Code to execute if subject matches pattern2\n",
        "    case _:\n",
        "        # Code to execute if subject doesn't match any patterns"
      ],
      "metadata": {
        "id": "voKdQ4hHSwXv"
      }
    },
    {
      "cell_type": "markdown",
      "source": [
        "**HOW IT WORKS**"
      ],
      "metadata": {
        "id": "lnfhMRWBSznr"
      }
    },
    {
      "cell_type": "markdown",
      "source": [
        "1. The match statement compares the subject value against each case pattern in order.\n",
        "2. If the subject matches a pattern, the code block under that case is executed, and the remaining case blocks are skipped.\n",
        "3. If the subject doesn't match any of the patterns, the code block under the wildcard case _ (if present) is executed."
      ],
      "metadata": {
        "id": "ksMVk7idS3gK"
      }
    },
    {
      "cell_type": "code",
      "source": [
        "http_status = 404\n",
        "\n",
        "match http_status:\n",
        "    case 200:\n",
        "        print(\"OK\")\n",
        "    case 400:\n",
        "        print(\"Bad Request\")\n",
        "    case 404:\n",
        "        print(\"Not Found\")\n",
        "    case _:\n",
        "        print(\"Other Status Code\")"
      ],
      "metadata": {
        "colab": {
          "base_uri": "https://localhost:8080/"
        },
        "id": "BUAWhaQpTEti",
        "outputId": "9232cf9b-756e-4cd0-e86f-ee82416f5ae5"
      },
      "execution_count": null,
      "outputs": [
        {
          "output_type": "stream",
          "name": "stdout",
          "text": [
            "Not Found\n"
          ]
        }
      ]
    },
    {
      "cell_type": "code",
      "source": [
        "x=4\n",
        "match x:\n",
        "  case 0:\n",
        "    print(\"zero\")\n",
        "  case 4 if(x%2==0):\n",
        "    print(\"even\")\n",
        "  case _ if x<10:\n",
        "    print(\"x is < 10\")\n",
        "  case _:\n",
        "    print(x  )"
      ],
      "metadata": {
        "colab": {
          "base_uri": "https://localhost:8080/"
        },
        "id": "gVbQYEe1T-p-",
        "outputId": "fc5036c4-3fbb-4a17-baae-6f3ad289a261"
      },
      "execution_count": null,
      "outputs": [
        {
          "output_type": "stream",
          "name": "stdout",
          "text": [
            "even\n"
          ]
        }
      ]
    }
  ]
}